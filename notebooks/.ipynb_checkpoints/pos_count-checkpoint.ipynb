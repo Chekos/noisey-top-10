{
 "cells": [
  {
   "cell_type": "code",
   "execution_count": 2,
   "metadata": {},
   "outputs": [],
   "source": [
    "import pandas as pd\n",
    "import os"
   ]
  },
  {
   "cell_type": "code",
   "execution_count": 26,
   "metadata": {},
   "outputs": [],
   "source": [
    "datasets = [file for file in os.listdir(os.path.join(\"..\",\"data\",\"processed\")) if \"POS\" in file]"
   ]
  },
  {
   "cell_type": "code",
   "execution_count": 27,
   "metadata": {},
   "outputs": [],
   "source": [
    "filepath_in = os.path.join(\"..\",\"data\",\"processed\", datasets[0])"
   ]
  },
  {
   "cell_type": "code",
   "execution_count": 31,
   "metadata": {},
   "outputs": [],
   "source": [
    "data = pd.DataFrame()\n",
    "\n",
    "for data_file in datasets:\n",
    "    filepath_in = os.path.join(\"..\",\"data\",\"processed\", data_file)\n",
    "    df = pd.read_csv(filepath_in)\n",
    "    df['artista'] = data_file.split(\"-\")[0]\n",
    "    data = pd.concat([data, df])\n",
    "    \n",
    "data = data.reset_index().drop(columns = 'index')\n",
    "filepath_out = os.path.join(\"..\",\"data\",\"processed\",\"total_POS.csv\")\n",
    "data.to_csv(filepath_out, index = False, encoding = 'utf-8')"
   ]
  },
  {
   "cell_type": "code",
   "execution_count": 33,
   "metadata": {},
   "outputs": [
    {
     "data": {
      "text/plain": [
       "array(['noun', 'verb', 'propn', 'adj', 'pron', 'det', 'adv', 'adp',\n",
       "       'sconj', 'aux', 'punct', 'conj', 'num', 'intj', 'space', 'sym',\n",
       "       'part'], dtype=object)"
      ]
     },
     "execution_count": 33,
     "metadata": {},
     "output_type": "execute_result"
    }
   ],
   "source": [
    "data['palabra'].unique()"
   ]
  },
  {
   "cell_type": "code",
   "execution_count": null,
   "metadata": {},
   "outputs": [],
   "source": [
    "[\n",
    "    'noun', \n",
    "    'verb', \n",
    "    'propn', \n",
    "    'adj', \n",
    "    'pron', \n",
    "    'det', \n",
    "    'adv', \n",
    "    'adp',\n",
    "    'sconj', \n",
    "    'aux', \n",
    "    'punct', \n",
    "    'conj', \n",
    "    'num', \n",
    "    'intj', \n",
    "    'space', \n",
    "    'sym',\n",
    "    'part',\n",
    "]"
   ]
  }
 ],
 "metadata": {
  "kernelspec": {
   "display_name": "Python 3",
   "language": "python",
   "name": "python3"
  },
  "language_info": {
   "codemirror_mode": {
    "name": "ipython",
    "version": 3
   },
   "file_extension": ".py",
   "mimetype": "text/x-python",
   "name": "python",
   "nbconvert_exporter": "python",
   "pygments_lexer": "ipython3",
   "version": "3.6.3"
  }
 },
 "nbformat": 4,
 "nbformat_minor": 2
}
