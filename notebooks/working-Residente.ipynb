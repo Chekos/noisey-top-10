{
 "cells": [
  {
   "cell_type": "markdown",
   "metadata": {},
   "source": [
    "# Explorando SpaCy"
   ]
  },
  {
   "cell_type": "code",
   "execution_count": null,
   "metadata": {},
   "outputs": [],
   "source": [
    "!conda install -c conda-forge spacy -y"
   ]
  },
  {
   "cell_type": "code",
   "execution_count": null,
   "metadata": {},
   "outputs": [],
   "source": [
    "!python -m spacy download es"
   ]
  },
  {
   "cell_type": "code",
   "execution_count": 1,
   "metadata": {},
   "outputs": [],
   "source": [
    "import spacy"
   ]
  },
  {
   "cell_type": "code",
   "execution_count": 2,
   "metadata": {},
   "outputs": [],
   "source": [
    "from spacy.attrs import ORTH"
   ]
  },
  {
   "cell_type": "code",
   "execution_count": 3,
   "metadata": {},
   "outputs": [],
   "source": [
    "nlp = spacy.load('es')"
   ]
  },
  {
   "cell_type": "markdown",
   "metadata": {},
   "source": [
    "#### load the text"
   ]
  },
  {
   "cell_type": "code",
   "execution_count": 5,
   "metadata": {},
   "outputs": [],
   "source": [
    "with open(\"../data/processed/Residente-limpio.txt\", \"r\", encoding = \"utf-8\") as file:\n",
    "    text = file.read()"
   ]
  },
  {
   "cell_type": "code",
   "execution_count": 6,
   "metadata": {},
   "outputs": [],
   "source": [
    "doc = nlp(text)"
   ]
  },
  {
   "cell_type": "code",
   "execution_count": 8,
   "metadata": {},
   "outputs": [
    {
     "data": {
      "text/plain": [
       "{102: 'SPACE',\n",
       " 86: 'AUX',\n",
       " 84: 'ADP',\n",
       " 99: 'VERB',\n",
       " 89: 'DET',\n",
       " 91: 'NOUN',\n",
       " 92: 'NUM',\n",
       " 95: 'PROPN',\n",
       " 98: 'SYM',\n",
       " 85: 'ADV',\n",
       " 87: 'CONJ',\n",
       " 97: 'SCONJ',\n",
       " 83: 'ADJ',\n",
       " 96: 'PUNCT',\n",
       " 94: 'PRON',\n",
       " 90: 'INTJ'}"
      ]
     },
     "execution_count": 8,
     "metadata": {},
     "output_type": "execute_result"
    }
   ],
   "source": [
    "all_tags = {word.pos: word.pos_ for word in doc}\n",
    "\n",
    "all_tags"
   ]
  },
  {
   "cell_type": "markdown",
   "metadata": {},
   "source": [
    "| POS | Definition |\n",
    "|:---:|:----------:|\n",
    "ADJ | adjective\n",
    "ADP | adposition\n",
    "ADV | adverb\n",
    "AUX | auxiliary\n",
    "CCONJ | coordinating conjunction\n",
    "DET | determiner\n",
    "INTJ | interjection\n",
    "NOUN | noun\n",
    "NUM | numeral\n",
    "PART | particle\n",
    "PRON | pronoun\n",
    "PROPN | proper noun\n",
    "PUNCT | punctuation\n",
    "SCONJ | subordinating conjunction\n",
    "SYM | symbol\n",
    "VERB | verb\n",
    "X: other"
   ]
  },
  {
   "cell_type": "code",
   "execution_count": 21,
   "metadata": {},
   "outputs": [],
   "source": [
    "#define some parameters  \n",
    "noisy_pos_tags = [\"PROPN\", \"SPACE\", \"PUNCT\", \"CONJ\", \"AUX\", \"ADP\", \"ADV\", \"DET\", \"INTJ\", \"SCONJ\", \"PRON\"]\n",
    "min_token_length = 2\n",
    "\n",
    "#Function to check if the token is a noise or not  \n",
    "def isNoise(token):     \n",
    "    is_noise = False\n",
    "    if token.pos_ in noisy_pos_tags:\n",
    "        is_noise = True \n",
    "    elif token.is_stop == True:\n",
    "        is_noise = True\n",
    "    elif len(token.string) <= min_token_length:\n",
    "        is_noise = True\n",
    "    return is_noise \n",
    "def cleanup(token, lower = True):\n",
    "    if lower:\n",
    "       token = token.lower()\n",
    "    return token.strip()\n",
    "\n",
    "# top unigrams used in the reviews \n",
    "from collections import Counter\n",
    "cleaned_list = [cleanup(word.lemma_) for word in doc if not isNoise(word)]\n",
    "\n",
    "\n",
    "\n",
    "top_100 = Counter(cleaned_list).most_common(100)"
   ]
  },
  {
   "cell_type": "code",
   "execution_count": 22,
   "metadata": {},
   "outputs": [
    {
     "name": "stdout",
     "output_type": "stream",
     "text": [
      "[('venir', 55), ('loco', 24), ('querer', 18), ('mirar', 18), ('noche', 17), ('tocar', 16), ('servir', 16), ('sábana', 16), ('gua', 13), ('cabeza', 12), ('chorro', 12), ('ver', 12), ('fiesta', 12), ('gente', 10), ('meter', 9), ('decir', 9), ('crema', 9), ('poner', 8), ('rimar', 8), ('lechón', 8), ('jamón', 8), (\"vo'a\", 8), ('poblar', 8), ('mira', 8), ('único', 8), ('casar', 7), ('escuchar', 7), ('sentir', 7), ('tirar', 7), ('vender', 7), ('13', 7), ('puré', 7), ('llorar', 7), ('frente', 6), ('tengo', 6), ('hambre', 6), ('mundo', 6), ('dejar', 6), ('teta', 6), ('comer', 6), ('cerebro', 6), ('tener', 6), ('mente', 6), ('piel', 6), ('bailar', 6), ('traer', 6), ('culpar', 6), ('matar', 6), ('herrar', 6), ('huevar', 6), ('yema', 6), ('avenar', 6), ('protagonista', 6), ('escena', 6), ('dar', 5), ('par', 5), ('barriga', 5), ('culo', 5), ('mesar', 5), ('gustar', 5), ('personal', 5), ('morir', 5), ('entender', 5), ('sangrar', 5), ('viejo', 5), ('desayunar', 5), ('callar', 5), ('barrio', 5), ('cuello', 4), ('pistar', 4), ('bajar', 4), ('gallar', 4), ('leche', 4), ('pato', 4), ('fucking', 4), ('llevar', 4), ('sacar', 4), ('hombre', 4), ('caro', 4), ('picar', 4), ('ofrecer', 4), ('millón', 4), ('mamón', 4), ('pasar', 4), ('caer', 4), ('salir', 4), ('robar', 4), ('enano', 4), ('importar', 4), ('respetar', 4), ('botar', 4), ('pie', 4), ('letra', 4), ('urbano', 4), ('lubricación', 4), ('familia', 4), ('mover', 3), ('estar', 3), ('luz', 3), ('tumbar', 3)]\n"
     ]
    }
   ],
   "source": [
    "print(top_100)"
   ]
  },
  {
   "cell_type": "code",
   "execution_count": 11,
   "metadata": {},
   "outputs": [
    {
     "name": "stdout",
     "output_type": "stream",
     "text": [
      "Las 25 palabras mas usadas por Residente en sus primeros 3 discos:\n",
      "1. Vienen, 49\n",
      "2. Mira, 22\n",
      "3. Noche, 17\n",
      "4. Sirve, 16\n",
      "5. Sábana, 16\n",
      "6. Quiero, 14\n",
      "7. Gua, 13\n",
      "8. Toca, 13\n",
      "9. Chorro, 12\n",
      "10. Loco, 12\n",
      "11. Fiesta, 12\n",
      "12. Locos, 12\n",
      "13. Gente, 10\n",
      "14. Cabeza, 10\n",
      "15. Crema, 9\n",
      "16. Vo'a, 8\n",
      "17. Pueblo, 8\n",
      "18. Único, 8\n",
      "19. Casa, 7\n",
      "20. Tienes, 7\n",
      "21. Veo, 7\n",
      "22. 13, 7\n",
      "23. Puré, 7\n",
      "24. Frente, 6\n",
      "25. Tengo, 6\n",
      "26. Hambre, 6\n",
      "27. Mundo, 6\n",
      "28. Cerebro, 6\n",
      "29. Mente, 6\n",
      "30. Piel, 6\n",
      "31. Culpa, 6\n",
      "32. Hierro, 6\n",
      "33. Huevo, 6\n",
      "34. Yema, 6\n",
      "35. Avena, 6\n",
      "36. Protagonistas, 6\n",
      "37. Escena, 6\n",
      "38. Lloren, 6\n",
      "39. Viene, 6\n",
      "40. Tetas, 5\n",
      "41. Par, 5\n",
      "42. Barriga, 5\n",
      "43. Digo, 5\n",
      "44. Personal, 5\n",
      "45. Sangre, 5\n",
      "46. Calle, 5\n",
      "47. Cuello, 4\n",
      "48. Rimas, 4\n",
      "49. Gallo, 4\n",
      "50. Leche, 4\n",
      "51. Fucking, 4\n",
      "52. Culo, 4\n",
      "53. Hombre, 4\n",
      "54. Cara, 4\n",
      "55. Lechones, 4\n",
      "56. Lechón, 4\n",
      "57. Jamones, 4\n",
      "58. Jamón, 4\n",
      "59. Millón, 4\n",
      "60. Mamones, 4\n",
      "61. Gusta, 4\n",
      "62. Importa, 4\n",
      "63. Escuchando, 4\n",
      "64. Botando, 4\n",
      "65. Traigo, 4\n",
      "66. Desayuno, 4\n",
      "67. Quiera, 4\n",
      "68. Letra, 4\n",
      "69. Lubricación, 4\n",
      "70. Familia, 4\n",
      "71. Puso, 3\n",
      "72. Pista, 3\n",
      "73. Corazón, 3\n",
      "74. Saliva, 3\n",
      "75. Parrilla, 3\n",
      "76. Coro, 3\n",
      "77. Rima, 3\n",
      "78. Sacar, 3\n",
      "79. Rap, 3\n",
      "80. Favor, 3\n",
      "81. Sigan, 3\n",
      "82. Siento, 3\n",
      "83. Cerveza, 3\n",
      "84. Pica, 3\n",
      "85. Mesa, 3\n",
      "86. Lengua, 3\n",
      "87. Pase, 3\n",
      "88. Patas, 3\n",
      "89. Enanos, 3\n",
      "90. Mitad, 3\n",
      "91. Baño, 3\n",
      "92. Venas, 3\n",
      "93. Respeto, 3\n",
      "94. Amor, 3\n",
      "95. Profundo, 3\n",
      "96. Pies, 3\n",
      "97. Piernas, 3\n",
      "98. Dale, 3\n",
      "99. Duro, 3\n",
      "100. What, 3\n"
     ]
    }
   ],
   "source": [
    "i = 1\n",
    "print(\"Las 25 palabras mas usadas por Residente en sus primeros 3 discos:\")\n",
    "for word in top_100:\n",
    "    print(f\"{i}. { word[0].capitalize()}, {word[1]}\")\n",
    "    i += 1"
   ]
  },
  {
   "cell_type": "code",
   "execution_count": null,
   "metadata": {},
   "outputs": [],
   "source": [
    "text"
   ]
  },
  {
   "cell_type": "code",
   "execution_count": 15,
   "metadata": {},
   "outputs": [],
   "source": [
    "with open(\"../data/processed/residente_top_100.csv\", \"w\", encoding = \"utf-8\") as file:\n",
    "    file.write(\"palabra,cuenta\\n\")\n",
    "    for i in range(100):\n",
    "        file.write(f\"{top_100[i][0]},{top_100[i][1]}\\n\")"
   ]
  },
  {
   "cell_type": "code",
   "execution_count": 17,
   "metadata": {},
   "outputs": [
    {
     "name": "stdout",
     "output_type": "stream",
     "text": [
      "Solving environment: done\n",
      "\n",
      "\n",
      "==> WARNING: A newer version of conda exists. <==\n",
      "  current version: 4.5.8\n",
      "  latest version: 4.5.11\n",
      "\n",
      "Please update conda by running\n",
      "\n",
      "    $ conda update -n base conda\n",
      "\n",
      "\n",
      "\n",
      "## Package Plan ##\n",
      "\n",
      "  environment location: /opt/conda\n",
      "\n",
      "  added / updated specs: \n",
      "    - altair\n",
      "\n",
      "\n",
      "The following packages will be downloaded:\n",
      "\n",
      "    package                    |            build\n",
      "    ---------------------------|-----------------\n",
      "    altair-2.2.2               |           py36_1         461 KB  conda-forge\n",
      "\n",
      "The following NEW packages will be INSTALLED:\n",
      "\n",
      "    altair: 2.2.2-py36_1 conda-forge\n",
      "\n",
      "\n",
      "Downloading and Extracting Packages\n",
      "altair-2.2.2         |  461 KB | ####################################### | 100% \n",
      "Preparing transaction: done\n",
      "Verifying transaction: done\n",
      "Executing transaction: done\n"
     ]
    }
   ],
   "source": [
    "!conda install -c conda-forge altair -y"
   ]
  },
  {
   "cell_type": "code",
   "execution_count": 18,
   "metadata": {},
   "outputs": [],
   "source": [
    "import altair as alt"
   ]
  },
  {
   "cell_type": "code",
   "execution_count": 41,
   "metadata": {},
   "outputs": [],
   "source": [
    "%run theme.py"
   ]
  },
  {
   "cell_type": "code",
   "execution_count": 40,
   "metadata": {},
   "outputs": [
    {
     "data": {
      "text/html": [
       "<style>\n",
       "@import url('https://fonts.googleapis.com/css?family=Ubuntu|Ubuntu+Condensed|Ubuntu+Mono');\n",
       "</style>"
      ],
      "text/plain": [
       "<IPython.core.display.HTML object>"
      ]
     },
     "metadata": {},
     "output_type": "display_data"
    }
   ],
   "source": [
    "%%html\n",
    "<style>\n",
    "@import url('https://fonts.googleapis.com/css?family=Ubuntu|Ubuntu+Condensed|Ubuntu+Mono');\n",
    "</style>"
   ]
  },
  {
   "cell_type": "code",
   "execution_count": 20,
   "metadata": {},
   "outputs": [],
   "source": [
    "data = alt.pd.read_csv(\"../data/processed/residente_top_100.csv\")"
   ]
  },
  {
   "cell_type": "code",
   "execution_count": 58,
   "metadata": {},
   "outputs": [
    {
     "data": {
      "application/vnd.vegalite.v2+json": {
       "$schema": "https://vega.github.io/schema/vega-lite/v2.6.0.json",
       "autosize": "fit",
       "config": {
        "arc": {
         "fill": "#282828"
        },
        "area": {
         "fill": "#282828"
        },
        "axisBand": {
         "grid": false
        },
        "axisBottom": {
         "domain": false,
         "domainColor": "black",
         "domainWidth": 3,
         "grid": true,
         "gridColor": "#C9C9C9",
         "gridWidth": 1,
         "labelAngle": 0,
         "labelFont": "Ubuntu Condensed",
         "labelFontSize": 20,
         "labelPadding": 8,
         "tickColor": "#282828",
         "tickSize": 10,
         "title": "",
         "titleFont": "Ubuntu",
         "titleFontSize": 16,
         "titlePadding": 10
        },
        "axisLeft": {
         "domainColor": "#282828",
         "domainWidth": 1,
         "gridColor": "#C9C9C9",
         "gridWidth": 1,
         "labelFont": "Ubuntu Condensed",
         "labelFontSize": 20,
         "labelPadding": 8,
         "tickColor": "#282828",
         "tickSize": 10,
         "ticks": true,
         "titleAngle": 0,
         "titleFont": "Ubuntu",
         "titleFontSize": 25,
         "titlePadding": 10,
         "titleX": 10,
         "titleY": -15
        },
        "axisRight": {
         "domainColor": "#282828",
         "domainWidth": 1,
         "gridColor": "#C9C9C9",
         "gridWidth": 1,
         "labelFont": "Ubuntu Condensed",
         "labelFontSize": 12,
         "labelPadding": 4,
         "tickColor": "#282828",
         "tickSize": 10,
         "ticks": true,
         "titleFont": "Ubuntu",
         "titleFontSize": 14,
         "titlePadding": 10
        },
        "axisTop": {
         "domain": false,
         "domainColor": "black",
         "domainWidth": 3,
         "grid": true,
         "gridColor": "#C9C9C9",
         "gridWidth": 1,
         "labelFont": "Ubuntu Condensed",
         "labelFontSize": 12,
         "labelPadding": 4,
         "tickColor": "#282828",
         "tickSize": 10,
         "titleFont": "Ubuntu",
         "titleFontSize": 14,
         "titlePadding": 10
        },
        "background": "#FFFAFA",
        "geoshape": {
         "fill": "#C0C0C0"
        },
        "group": {
         "fill": "#FFFAFA"
        },
        "header": {
         "fontWeight": 400,
         "labelFont": "Ubuntu Condensed",
         "labelFontSize": 28,
         "title": " ",
         "titleBaseline": "bottom",
         "titleFont": "Ubuntu",
         "titleFontSize": 28,
         "titleOffset": -30
        },
        "legend": {
         "labelFont": "Ubuntu Condensed",
         "labelFontSize": 16,
         "labelLimit": 500,
         "padding": 10,
         "symbolSize": 100,
         "symbolType": "square",
         "titleFont": "Ubuntu",
         "titleFontSize": 18,
         "titlePadding": 10
        },
        "line": {
         "color": "#282828",
         "stroke": "#282828",
         "strokewidth": 5
        },
        "padding": 10,
        "path": {
         "stroke": "#282828",
         "strokeWidth": 0.5
        },
        "point": {
         "filled": true
        },
        "range": {
         "category": [
          "#bf6d24",
          "#8c3a1c",
          "#280e1f",
          "#63734c",
          "#69604d",
          "#706123",
          "#a20c4b",
          "#074a7e"
         ],
         "diverging": [
          "#dc0d12",
          "#e9686b",
          "#fbe1e1",
          "#dff4f9",
          "#81d1e6",
          "#03a3cd"
         ],
         "heatmap": [
          "#fcdfef",
          "#f8bfde",
          "#f59fce",
          "#f180be",
          "#ee60ad",
          "#eb409d",
          "#e7208c",
          "#e4007c"
         ]
        },
        "rect": {
         "fill": "#A20C4B",
         "opacity": 0.3
        },
        "style": {
         "bar": {
          "binSpacing": 2,
          "fill": "#282828",
          "stroke": false
         },
         "text": {
          "align": "right",
          "dx": 300,
          "font": "Ubuntu Mono",
          "fontSize": 10,
          "fontWeight": 100,
          "href": "https://twitter.com/ChekosWH",
          "size": 10,
          "text": "Made by @ChekosWH"
         }
        },
        "symbol": {
         "opacity": 1,
         "shape": "circle",
         "size": 40,
         "strokeWidth": 1
        },
        "title": {
         "anchor": "start",
         "font": "Ubuntu",
         "fontSize": 45,
         "fontWeight": 600,
         "offset": 20
        },
        "trail": {
         "color": "#282828",
         "size": 5,
         "stroke": "#282828",
         "strokeWidth": 0
        },
        "view": {
         "padding": 15,
         "stroke": false
        }
       },
       "datasets": {
        "data-70e5f9ff8fa96041d19b16d8c2913635": [
         {
          "cuenta": 79,
          "palabra": "suave"
         },
         {
          "cuenta": 77,
          "palabra": "quiero"
         },
         {
          "cuenta": 57,
          "palabra": "vienen"
         },
         {
          "cuenta": 50,
          "palabra": "cae"
         },
         {
          "cuenta": 46,
          "palabra": "mundo"
         },
         {
          "cuenta": 41,
          "palabra": "gente"
         },
         {
          "cuenta": 41,
          "palabra": "tengo"
         },
         {
          "cuenta": 38,
          "palabra": "mira"
         },
         {
          "cuenta": 32,
          "palabra": "gusta"
         },
         {
          "cuenta": 31,
          "palabra": "noche"
         },
         {
          "cuenta": 29,
          "palabra": "gorda"
         },
         {
          "cuenta": 28,
          "palabra": "13"
         },
         {
          "cuenta": 28,
          "palabra": "vale"
         },
         {
          "cuenta": 28,
          "palabra": "cabrón"
         },
         {
          "cuenta": 27,
          "palabra": "gua"
         },
         {
          "cuenta": 27,
          "palabra": "avión"
         },
         {
          "cuenta": 25,
          "palabra": "importa"
         },
         {
          "cuenta": 25,
          "palabra": "tienes"
         },
         {
          "cuenta": 24,
          "palabra": "noro"
         },
         {
          "cuenta": 23,
          "palabra": "siento"
         },
         {
          "cuenta": 21,
          "palabra": "quieres"
         },
         {
          "cuenta": 21,
          "palabra": "vida"
         },
         {
          "cuenta": 20,
          "palabra": "sirve"
         },
         {
          "cuenta": 20,
          "palabra": "sábana"
         },
         {
          "cuenta": 20,
          "palabra": "amor"
         }
        ]
       },
       "height": 800,
       "layer": [
        {
         "data": {
          "name": "data-70e5f9ff8fa96041d19b16d8c2913635"
         },
         "encoding": {
          "x": {
           "field": "cuenta",
           "sort": "ascending",
           "type": "quantitative"
          },
          "y": {
           "axis": {
            "title": "Top 25 palabras mas usadas"
           },
           "field": "palabra",
           "scale": {
            "domain": [
             "suave",
             "quiero",
             "vienen",
             "cae",
             "mundo",
             "gente",
             "tengo",
             "mira",
             "gusta",
             "noche",
             "gorda",
             "13",
             "vale",
             "cabrón",
             "gua",
             "avión",
             "importa",
             "tienes",
             "noro",
             "siento",
             "quieres",
             "vida",
             "sirve",
             "sábana",
             "amor"
            ]
           },
           "type": "nominal"
          }
         },
         "mark": "bar",
         "title": "Residente / Calle 13"
        },
        {
         "data": {
          "name": "data-70e5f9ff8fa96041d19b16d8c2913635"
         },
         "encoding": {
          "text": {
           "field": "cuenta",
           "type": "quantitative"
          },
          "x": {
           "field": "cuenta",
           "sort": "ascending",
           "type": "quantitative"
          },
          "y": {
           "axis": {
            "title": "Top 25 palabras mas usadas"
           },
           "field": "palabra",
           "scale": {
            "domain": [
             "suave",
             "quiero",
             "vienen",
             "cae",
             "mundo",
             "gente",
             "tengo",
             "mira",
             "gusta",
             "noche",
             "gorda",
             "13",
             "vale",
             "cabrón",
             "gua",
             "avión",
             "importa",
             "tienes",
             "noro",
             "siento",
             "quieres",
             "vida",
             "sirve",
             "sábana",
             "amor"
            ]
           },
           "type": "nominal"
          }
         },
         "mark": {
          "align": "left",
          "baseline": "middle",
          "dx": 3,
          "type": "text"
         },
         "title": "Residente / Calle 13"
        }
       ],
       "width": 1080
      },
      "image/png": "[encoded data removed]",
      "text/plain": [
       "<VegaLite 2 object>\n",
       "\n",
       "If you see this message, it means the renderer has not been properly enabled\n",
       "for the frontend that you are using. For more information, see\n",
       "https://altair-viz.github.io/user_guide/troubleshooting.html\n"
      ]
     },
     "execution_count": 58,
     "metadata": {},
     "output_type": "execute_result"
    }
   ],
   "source": [
    "data.sort_values('cuenta', ascending = False, inplace = True)\n",
    "\n",
    "chart25 = alt.Chart(data.iloc[:25]).mark_bar().encode(\n",
    "    x = alt.X('cuenta:Q', sort = 'ascending'),\n",
    "    y = alt.Y('palabra:N', scale = alt.Scale(domain = list(data.iloc[:25]['palabra'])), axis = alt.Axis(title = \"Top 25 palabras mas usadas\")),\n",
    ").properties(\n",
    "    title = \"Residente / Calle 13\"\n",
    ")\n",
    "\n",
    "text25 = chart25.mark_text(\n",
    "    align='left',\n",
    "    baseline='middle',\n",
    "    dx=3\n",
    ").encode(\n",
    "    text='cuenta'\n",
    ")\n",
    "\n",
    "final_25 = chart25 + text25\n",
    "\n",
    "final_25.configure_axisLeft(titleAngle= 0, titleY = -15, titleX = 10, titleFontSize=25).configure_title(fontSize = 45)"
   ]
  },
  {
   "cell_type": "code",
   "execution_count": 60,
   "metadata": {},
   "outputs": [
    {
     "data": {
      "application/vnd.vegalite.v2+json": {
       "$schema": "https://vega.github.io/schema/vega-lite/v2.6.0.json",
       "autosize": "fit",
       "config": {
        "arc": {
         "fill": "#282828"
        },
        "area": {
         "fill": "#282828"
        },
        "axisBand": {
         "grid": false
        },
        "axisBottom": {
         "domain": false,
         "domainColor": "black",
         "domainWidth": 3,
         "grid": true,
         "gridColor": "#C9C9C9",
         "gridWidth": 1,
         "labelAngle": 0,
         "labelFont": "Ubuntu Condensed",
         "labelFontSize": 20,
         "labelPadding": 8,
         "tickColor": "#282828",
         "tickSize": 10,
         "title": "",
         "titleFont": "Ubuntu",
         "titleFontSize": 16,
         "titlePadding": 10
        },
        "axisLeft": {
         "domainColor": "#282828",
         "domainWidth": 1,
         "gridColor": "#C9C9C9",
         "gridWidth": 1,
         "labelFont": "Ubuntu Condensed",
         "labelFontSize": 20,
         "labelPadding": 8,
         "tickColor": "#282828",
         "tickSize": 10,
         "ticks": true,
         "titleAngle": 0,
         "titleFont": "Ubuntu",
         "titleFontSize": 25,
         "titlePadding": 10,
         "titleX": 10,
         "titleY": -15
        },
        "axisRight": {
         "domainColor": "#282828",
         "domainWidth": 1,
         "gridColor": "#C9C9C9",
         "gridWidth": 1,
         "labelFont": "Ubuntu Condensed",
         "labelFontSize": 12,
         "labelPadding": 4,
         "tickColor": "#282828",
         "tickSize": 10,
         "ticks": true,
         "titleFont": "Ubuntu",
         "titleFontSize": 14,
         "titlePadding": 10
        },
        "axisTop": {
         "domain": false,
         "domainColor": "black",
         "domainWidth": 3,
         "grid": true,
         "gridColor": "#C9C9C9",
         "gridWidth": 1,
         "labelFont": "Ubuntu Condensed",
         "labelFontSize": 12,
         "labelPadding": 4,
         "tickColor": "#282828",
         "tickSize": 10,
         "titleFont": "Ubuntu",
         "titleFontSize": 14,
         "titlePadding": 10
        },
        "background": "#FFFAFA",
        "geoshape": {
         "fill": "#C0C0C0"
        },
        "group": {
         "fill": "#FFFAFA"
        },
        "header": {
         "fontWeight": 400,
         "labelFont": "Ubuntu Condensed",
         "labelFontSize": 28,
         "title": " ",
         "titleBaseline": "bottom",
         "titleFont": "Ubuntu",
         "titleFontSize": 28,
         "titleOffset": -30
        },
        "legend": {
         "labelFont": "Ubuntu Condensed",
         "labelFontSize": 16,
         "labelLimit": 500,
         "padding": 10,
         "symbolSize": 100,
         "symbolType": "square",
         "titleFont": "Ubuntu",
         "titleFontSize": 18,
         "titlePadding": 10
        },
        "line": {
         "color": "#282828",
         "stroke": "#282828",
         "strokewidth": 5
        },
        "padding": 10,
        "path": {
         "stroke": "#282828",
         "strokeWidth": 0.5
        },
        "point": {
         "filled": true
        },
        "range": {
         "category": [
          "#bf6d24",
          "#8c3a1c",
          "#280e1f",
          "#63734c",
          "#69604d",
          "#706123",
          "#a20c4b",
          "#074a7e"
         ],
         "diverging": [
          "#dc0d12",
          "#e9686b",
          "#fbe1e1",
          "#dff4f9",
          "#81d1e6",
          "#03a3cd"
         ],
         "heatmap": [
          "#fcdfef",
          "#f8bfde",
          "#f59fce",
          "#f180be",
          "#ee60ad",
          "#eb409d",
          "#e7208c",
          "#e4007c"
         ]
        },
        "rect": {
         "fill": "#A20C4B",
         "opacity": 0.3
        },
        "style": {
         "bar": {
          "binSpacing": 2,
          "fill": "#282828",
          "stroke": false
         },
         "text": {
          "align": "right",
          "dx": 300,
          "font": "Ubuntu Mono",
          "fontSize": 10,
          "fontWeight": 100,
          "href": "https://twitter.com/ChekosWH",
          "size": 10,
          "text": "Made by @ChekosWH"
         }
        },
        "symbol": {
         "opacity": 1,
         "shape": "circle",
         "size": 40,
         "strokeWidth": 1
        },
        "title": {
         "anchor": "start",
         "font": "Ubuntu",
         "fontSize": 45,
         "fontWeight": 600,
         "offset": 20
        },
        "trail": {
         "color": "#282828",
         "size": 5,
         "stroke": "#282828",
         "strokeWidth": 0
        },
        "view": {
         "padding": 15,
         "stroke": false
        }
       },
       "datasets": {
        "data-3630a421c3eada8691cf14e4102b28e5": [
         {
          "cuenta": 79,
          "palabra": "suave"
         },
         {
          "cuenta": 77,
          "palabra": "quiero"
         },
         {
          "cuenta": 57,
          "palabra": "vienen"
         },
         {
          "cuenta": 50,
          "palabra": "cae"
         },
         {
          "cuenta": 46,
          "palabra": "mundo"
         },
         {
          "cuenta": 41,
          "palabra": "gente"
         },
         {
          "cuenta": 41,
          "palabra": "tengo"
         },
         {
          "cuenta": 38,
          "palabra": "mira"
         },
         {
          "cuenta": 32,
          "palabra": "gusta"
         },
         {
          "cuenta": 31,
          "palabra": "noche"
         },
         {
          "cuenta": 29,
          "palabra": "gorda"
         },
         {
          "cuenta": 28,
          "palabra": "13"
         },
         {
          "cuenta": 28,
          "palabra": "vale"
         },
         {
          "cuenta": 28,
          "palabra": "cabrón"
         },
         {
          "cuenta": 27,
          "palabra": "gua"
         },
         {
          "cuenta": 27,
          "palabra": "avión"
         },
         {
          "cuenta": 25,
          "palabra": "importa"
         },
         {
          "cuenta": 25,
          "palabra": "tienes"
         },
         {
          "cuenta": 24,
          "palabra": "noro"
         },
         {
          "cuenta": 23,
          "palabra": "siento"
         },
         {
          "cuenta": 21,
          "palabra": "quieres"
         },
         {
          "cuenta": 21,
          "palabra": "vida"
         },
         {
          "cuenta": 20,
          "palabra": "sirve"
         },
         {
          "cuenta": 20,
          "palabra": "sábana"
         },
         {
          "cuenta": 20,
          "palabra": "amor"
         },
         {
          "cuenta": 20,
          "palabra": "cara"
         },
         {
          "cuenta": 19,
          "palabra": "música"
         },
         {
          "cuenta": 19,
          "palabra": "vo'a"
         },
         {
          "cuenta": 19,
          "palabra": "dale"
         },
         {
          "cuenta": 18,
          "palabra": "bailar"
         },
         {
          "cuenta": 17,
          "palabra": "cabeza"
         },
         {
          "cuenta": 16,
          "palabra": "casa"
         },
         {
          "cuenta": 16,
          "palabra": "loco"
         },
         {
          "cuenta": 16,
          "palabra": "timba"
         },
         {
          "cuenta": 16,
          "palabra": "pongo"
         },
         {
          "cuenta": 15,
          "palabra": "fuego"
         },
         {
          "cuenta": 15,
          "palabra": "toca"
         },
         {
          "cuenta": 15,
          "palabra": "leche"
         },
         {
          "cuenta": 15,
          "palabra": "vas"
         },
         {
          "cuenta": 14,
          "palabra": "cuello"
         },
         {
          "cuenta": 14,
          "palabra": "crema"
         },
         {
          "cuenta": 14,
          "palabra": "pista"
         },
         {
          "cuenta": 14,
          "palabra": "par"
         },
         {
          "cuenta": 14,
          "palabra": "locos"
         },
         {
          "cuenta": 14,
          "palabra": "hey"
         },
         {
          "cuenta": 13,
          "palabra": "fiesta"
         },
         {
          "cuenta": 13,
          "palabra": "corre"
         },
         {
          "cuenta": 13,
          "palabra": "pueblo"
         },
         {
          "cuenta": 13,
          "palabra": "chupan"
         },
         {
          "cuenta": 13,
          "palabra": "culo"
         },
         {
          "cuenta": 13,
          "palabra": "culpa"
         },
         {
          "cuenta": 13,
          "palabra": "agua"
         },
         {
          "cuenta": 12,
          "palabra": "lloren"
         },
         {
          "cuenta": 12,
          "palabra": "animal"
         },
         {
          "cuenta": 12,
          "palabra": "puerta"
         },
         {
          "cuenta": 12,
          "palabra": "chorro"
         },
         {
          "cuenta": 12,
          "palabra": "canción"
         },
         {
          "cuenta": 12,
          "palabra": "único"
         },
         {
          "cuenta": 12,
          "palabra": "respeto"
         },
         {
          "cuenta": 12,
          "palabra": "eeee"
         },
         {
          "cuenta": 12,
          "palabra": "tipo"
         },
         {
          "cuenta": 12,
          "palabra": "salsa"
         },
         {
          "cuenta": 12,
          "palabra": "color"
         },
         {
          "cuenta": 12,
          "palabra": "coro"
         },
         {
          "cuenta": 12,
          "palabra": "hombre"
         },
         {
          "cuenta": 12,
          "palabra": "doy"
         },
         {
          "cuenta": 11,
          "palabra": "veo"
         },
         {
          "cuenta": 11,
          "palabra": "pito"
         },
         {
          "cuenta": 11,
          "palabra": "pelo"
         },
         {
          "cuenta": 11,
          "palabra": "vengo"
         },
         {
          "cuenta": 11,
          "palabra": "verga"
         },
         {
          "cuenta": 10,
          "palabra": "vueltas"
         },
         {
          "cuenta": 10,
          "palabra": "sangre"
         },
         {
          "cuenta": 10,
          "palabra": "pies"
         },
         {
          "cuenta": 10,
          "palabra": "fucking"
         },
         {
          "cuenta": 10,
          "palabra": "identidad"
         },
         {
          "cuenta": 10,
          "palabra": "desayuno"
         },
         {
          "cuenta": 10,
          "palabra": "faltarnos"
         },
         {
          "cuenta": 10,
          "palabra": "asiento"
         },
         {
          "cuenta": 10,
          "palabra": "piernas"
         },
         {
          "cuenta": 10,
          "palabra": "dejo"
         },
         {
          "cuenta": 10,
          "palabra": "pone"
         },
         {
          "cuenta": 10,
          "palabra": "frente"
         },
         {
          "cuenta": 10,
          "palabra": "das"
         },
         {
          "cuenta": 10,
          "palabra": "sexo"
         },
         {
          "cuenta": 10,
          "palabra": "lengua"
         },
         {
          "cuenta": 10,
          "palabra": "darle"
         },
         {
          "cuenta": 9,
          "palabra": "bomba"
         },
         {
          "cuenta": 9,
          "palabra": "deja"
         },
         {
          "cuenta": 9,
          "palabra": "nombre"
         },
         {
          "cuenta": 9,
          "palabra": "caliente"
         },
         {
          "cuenta": 9,
          "palabra": "sopa"
         },
         {
          "cuenta": 9,
          "palabra": "boca"
         },
         {
          "cuenta": 9,
          "palabra": "caminar"
         },
         {
          "cuenta": 9,
          "palabra": "tetas"
         },
         {
          "cuenta": 9,
          "palabra": "hablar"
         },
         {
          "cuenta": 9,
          "palabra": "volumen"
         },
         {
          "cuenta": 9,
          "palabra": "pa'l"
         },
         {
          "cuenta": 9,
          "palabra": "traigo"
         },
         {
          "cuenta": 9,
          "palabra": "barrio"
         }
        ]
       },
       "height": 800,
       "layer": [
        {
         "data": {
          "name": "data-3630a421c3eada8691cf14e4102b28e5"
         },
         "encoding": {
          "x": {
           "field": "cuenta",
           "sort": "ascending",
           "type": "quantitative"
          },
          "y": {
           "axis": {
            "title": "Top 100 palabras mas usadas"
           },
           "field": "palabra",
           "scale": {
            "domain": [
             "suave",
             "quiero",
             "vienen",
             "cae",
             "mundo",
             "gente",
             "tengo",
             "mira",
             "gusta",
             "noche",
             "gorda",
             "13",
             "vale",
             "cabrón",
             "gua",
             "avión",
             "importa",
             "tienes",
             "noro",
             "siento",
             "quieres",
             "vida",
             "sirve",
             "sábana",
             "amor",
             "cara",
             "música",
             "vo'a",
             "dale",
             "bailar",
             "cabeza",
             "casa",
             "loco",
             "timba",
             "pongo",
             "fuego",
             "toca",
             "leche",
             "vas",
             "cuello",
             "crema",
             "pista",
             "par",
             "locos",
             "hey",
             "fiesta",
             "corre",
             "pueblo",
             "chupan",
             "culo",
             "culpa",
             "agua",
             "lloren",
             "animal",
             "puerta",
             "chorro",
             "canción",
             "único",
             "respeto",
             "eeee",
             "tipo",
             "salsa",
             "color",
             "coro",
             "hombre",
             "doy",
             "veo",
             "pito",
             "pelo",
             "vengo",
             "verga",
             "vueltas",
             "sangre",
             "pies",
             "fucking",
             "identidad",
             "desayuno",
             "faltarnos",
             "asiento",
             "piernas",
             "dejo",
             "pone",
             "frente",
             "das",
             "sexo",
             "lengua",
             "darle",
             "bomba",
             "deja",
             "nombre",
             "caliente",
             "sopa",
             "boca",
             "caminar",
             "tetas",
             "hablar",
             "volumen",
             "pa'l",
             "traigo",
             "barrio"
            ]
           },
           "type": "nominal"
          }
         },
         "height": 1800,
         "mark": "bar",
         "title": "Residente / Calle 13"
        },
        {
         "data": {
          "name": "data-3630a421c3eada8691cf14e4102b28e5"
         },
         "encoding": {
          "text": {
           "field": "cuenta",
           "type": "quantitative"
          },
          "x": {
           "field": "cuenta",
           "sort": "ascending",
           "type": "quantitative"
          },
          "y": {
           "axis": {
            "title": "Top 100 palabras mas usadas"
           },
           "field": "palabra",
           "scale": {
            "domain": [
             "suave",
             "quiero",
             "vienen",
             "cae",
             "mundo",
             "gente",
             "tengo",
             "mira",
             "gusta",
             "noche",
             "gorda",
             "13",
             "vale",
             "cabrón",
             "gua",
             "avión",
             "importa",
             "tienes",
             "noro",
             "siento",
             "quieres",
             "vida",
             "sirve",
             "sábana",
             "amor",
             "cara",
             "música",
             "vo'a",
             "dale",
             "bailar",
             "cabeza",
             "casa",
             "loco",
             "timba",
             "pongo",
             "fuego",
             "toca",
             "leche",
             "vas",
             "cuello",
             "crema",
             "pista",
             "par",
             "locos",
             "hey",
             "fiesta",
             "corre",
             "pueblo",
             "chupan",
             "culo",
             "culpa",
             "agua",
             "lloren",
             "animal",
             "puerta",
             "chorro",
             "canción",
             "único",
             "respeto",
             "eeee",
             "tipo",
             "salsa",
             "color",
             "coro",
             "hombre",
             "doy",
             "veo",
             "pito",
             "pelo",
             "vengo",
             "verga",
             "vueltas",
             "sangre",
             "pies",
             "fucking",
             "identidad",
             "desayuno",
             "faltarnos",
             "asiento",
             "piernas",
             "dejo",
             "pone",
             "frente",
             "das",
             "sexo",
             "lengua",
             "darle",
             "bomba",
             "deja",
             "nombre",
             "caliente",
             "sopa",
             "boca",
             "caminar",
             "tetas",
             "hablar",
             "volumen",
             "pa'l",
             "traigo",
             "barrio"
            ]
           },
           "type": "nominal"
          }
         },
         "height": 1800,
         "mark": {
          "align": "left",
          "baseline": "middle",
          "dx": 3,
          "type": "text"
         },
         "title": "Residente / Calle 13"
        }
       ],
       "width": 1080
      },
      "image/png": "[encoded data removed]",
      "text/plain": [
       "<VegaLite 2 object>\n",
       "\n",
       "If you see this message, it means the renderer has not been properly enabled\n",
       "for the frontend that you are using. For more information, see\n",
       "https://altair-viz.github.io/user_guide/troubleshooting.html\n"
      ]
     },
     "execution_count": 60,
     "metadata": {},
     "output_type": "execute_result"
    }
   ],
   "source": [
    "chart100 = alt.Chart(data).mark_bar().encode(\n",
    "    x = alt.X('cuenta:Q', sort = 'ascending'),\n",
    "    y = alt.Y('palabra:N', scale = alt.Scale(domain = list(data['palabra'])), axis = alt.Axis(title = \"Top 100 palabras mas usadas\")),\n",
    ").properties(\n",
    "    title = \"Residente / Calle 13\",\n",
    "    height = 1800\n",
    ")\n",
    "\n",
    "text100 = chart100.mark_text(\n",
    "    align='left',\n",
    "    baseline='middle',\n",
    "    dx=3\n",
    ").encode(\n",
    "    text='cuenta'\n",
    ")\n",
    "\n",
    "final_100 = chart100 + text100\n",
    "final_100.configure_axisLeft(titleAngle= 0, titleY = -15, titleX = 10, titleFontSize=25).configure_title(fontSize = 45)"
   ]
  },
  {
   "cell_type": "code",
   "execution_count": null,
   "metadata": {},
   "outputs": [],
   "source": []
  }
 ],
 "metadata": {
  "kernelspec": {
   "display_name": "Python 3",
   "language": "python",
   "name": "python3"
  },
  "language_info": {
   "codemirror_mode": {
    "name": "ipython",
    "version": 3
   },
   "file_extension": ".py",
   "mimetype": "text/x-python",
   "name": "python",
   "nbconvert_exporter": "python",
   "pygments_lexer": "ipython3",
   "version": "3.6.3"
  }
 },
 "nbformat": 4,
 "nbformat_minor": 2
}
